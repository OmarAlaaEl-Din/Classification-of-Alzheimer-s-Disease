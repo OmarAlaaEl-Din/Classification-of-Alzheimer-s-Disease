{
  "nbformat": 4,
  "nbformat_minor": 0,
  "metadata": {
    "colab": {
      "provenance": []
    },
    "kernelspec": {
      "name": "python3",
      "display_name": "Python 3"
    },
    "language_info": {
      "name": "python"
    },
    "accelerator": "GPU",
    "gpuClass": "standard"
  },
  "cells": [
    {
      "cell_type": "code",
      "source": [
        "import cv2\n",
        "import numpy as np\n",
        "import glob\n",
        "import matplotlib.pyplot as plt"
      ],
      "metadata": {
        "id": "7DLDQCEzqt2M"
      },
      "execution_count": 2,
      "outputs": []
    },
    {
      "cell_type": "code",
      "source": [
        "import os\n",
        "import warnings\n",
        "warnings.filterwarnings(\"ignore\")\n",
        "import pandas as pd\n",
        "import numpy as np\n",
        "import tensorflow as tf\n",
        "from tensorflow import keras\n",
        "from tensorflow.keras import layers,models\n",
        "from tensorflow.keras.preprocessing import image\n",
        "from tensorflow.keras.preprocessing.image import ImageDataGenerator\n",
        "from tensorflow.keras.models import Sequential\n",
        "from tensorflow.keras.layers import Conv2D, Flatten, MaxPooling2D, Dense, Dropout, GlobalAveragePooling2D\n",
        "from tensorflow.keras import optimizers, losses\n",
        "import seaborn as sns\n",
        "import matplotlib.pyplot as plt\n",
        "from pathlib import Path\n",
        "import os.path\n",
        "from sklearn.metrics import classification_report, confusion_matrix\n",
        "import itertools"
      ],
      "metadata": {
        "id": "6agROv5m6HEz"
      },
      "execution_count": 1,
      "outputs": []
    },
    {
      "cell_type": "code",
      "source": [
        "MildDemented_folder = glob.glob(\"/content/drive/MyDrive/Alzheimer Magnetic Resonance Imaging (MRI)/AugmentedAlzheimerDataset/MildDemented/*.jpg\")\n",
        "MildDemented_imgs = []"
      ],
      "metadata": {
        "id": "qt2G6fxkzDh9"
      },
      "execution_count": null,
      "outputs": []
    },
    {
      "cell_type": "code",
      "source": [
        "for MildDemented_img in MildDemented_folder:\n",
        "    MildDemented = cv2.imread(MildDemented_img)\n",
        "    MildDemented_imgs.append(MildDemented)"
      ],
      "metadata": {
        "id": "ZvLUOxTvzVu-"
      },
      "execution_count": null,
      "outputs": []
    },
    {
      "cell_type": "code",
      "source": [
        "MildDemented_imgs = np.array(MildDemented_imgs)"
      ],
      "metadata": {
        "id": "r5kJkEzSzeV0"
      },
      "execution_count": null,
      "outputs": []
    },
    {
      "cell_type": "code",
      "source": [
        "ModerateDemented_folder = glob.glob(\"/content/drive/MyDrive/Alzheimer Magnetic Resonance Imaging (MRI)/AugmentedAlzheimerDataset/ModerateDemented/*.jpg\")\n",
        "ModerateDemented_imgs = []"
      ],
      "metadata": {
        "id": "9ays_B7pziC9"
      },
      "execution_count": null,
      "outputs": []
    },
    {
      "cell_type": "code",
      "source": [
        "for ModerateDemented_img in ModerateDemented_folder:\n",
        "    ModerateDemented = cv2.imread(ModerateDemented_img)\n",
        "    ModerateDemented_imgs.append(ModerateDemented)"
      ],
      "metadata": {
        "id": "K4R8-bUaz8UT"
      },
      "execution_count": null,
      "outputs": []
    },
    {
      "cell_type": "code",
      "source": [
        "ModerateDemented_imgs = np.array(ModerateDemented_imgs)"
      ],
      "metadata": {
        "id": "M6QqhGoe0EUT"
      },
      "execution_count": null,
      "outputs": []
    },
    {
      "cell_type": "code",
      "source": [
        "NonDemented_folder = glob.glob(\"/content/drive/MyDrive/Alzheimer Magnetic Resonance Imaging (MRI)/AugmentedAlzheimerDataset/NonDemented/*.jpg\")\n",
        "NonDemented_imgs = []"
      ],
      "metadata": {
        "id": "Xb1RR9te0FOH"
      },
      "execution_count": null,
      "outputs": []
    },
    {
      "cell_type": "code",
      "source": [
        "for NonDemented_img in NonDemented_folder:\n",
        "    NonDemented = cv2.imread(NonDemented_img)\n",
        "    NonDemented_imgs.append(NonDemented)"
      ],
      "metadata": {
        "id": "64BsgECt0WtS"
      },
      "execution_count": null,
      "outputs": []
    },
    {
      "cell_type": "code",
      "source": [
        "NonDemented_imgs = np.array(NonDemented_imgs)"
      ],
      "metadata": {
        "id": "9GRdHdSx0oNs"
      },
      "execution_count": null,
      "outputs": []
    },
    {
      "cell_type": "code",
      "source": [
        "VeryMildDemented_folder = glob.glob(\"/content/drive/MyDrive/Alzheimer Magnetic Resonance Imaging (MRI)/AugmentedAlzheimerDataset/VeryMildDemented/*.jpg\")\n",
        "VeryMildDemented_imgs = []"
      ],
      "metadata": {
        "id": "hgghqC7d0rYT"
      },
      "execution_count": null,
      "outputs": []
    },
    {
      "cell_type": "code",
      "source": [
        "for VeryMildDemented_img in VeryMildDemented_folder:\n",
        "    VeryMildDemented = cv2.imread(VeryMildDemented_img)\n",
        "    VeryMildDemented_imgs.append(VeryMildDemented)"
      ],
      "metadata": {
        "id": "rl_JXz-91Hbb"
      },
      "execution_count": null,
      "outputs": []
    },
    {
      "cell_type": "code",
      "source": [
        "VeryMildDemented_imgs = np.array(VeryMildDemented_imgs)"
      ],
      "metadata": {
        "id": "CCmd_RC01KXk"
      },
      "execution_count": null,
      "outputs": []
    },
    {
      "cell_type": "code",
      "source": [
        "data = \"/content/drive/MyDrive/Alzheimer Magnetic Resonance Imaging (MRI)/AugmentedAlzheimerDataset\""
      ],
      "metadata": {
        "id": "b_4SIPAW6rNk"
      },
      "execution_count": 2,
      "outputs": []
    },
    {
      "cell_type": "code",
      "source": [
        "image_dir = Path(data)\n",
        "filepaths = list(image_dir.glob(r'**/*.JPG')) + list(image_dir.glob(r'**/*.jpg')) \n",
        "labels = list(map(lambda x: os.path.split(os.path.split(x)[0])[1], filepaths))\n",
        "filepaths = pd.Series(filepaths, name='Filepath').astype(str)\n",
        "labels = pd.Series(labels, name='Label')\n",
        "image_df = pd.concat([filepaths, labels], axis=1)"
      ],
      "metadata": {
        "id": "0fVkFxY965fC"
      },
      "execution_count": 3,
      "outputs": []
    },
    {
      "cell_type": "code",
      "source": [
        "import PIL\n",
        "from pathlib import Path\n",
        "from PIL import UnidentifiedImageError\n",
        "path = Path(\"/content/drive/MyDrive/Alzheimer Magnetic Resonance Imaging (MRI)/AugmentedAlzheimerDataset\").rglob(\"*.jpg\")\n",
        "for img_p in path:\n",
        "    try:\n",
        "        img = PIL.Image.open(img_p)\n",
        "    except PIL.UnidentifiedImageError:\n",
        "            print(img_p)"
      ],
      "metadata": {
        "id": "OXq7nJa266qs"
      },
      "execution_count": 4,
      "outputs": []
    },
    {
      "cell_type": "code",
      "source": [
        "image_df"
      ],
      "metadata": {
        "colab": {
          "base_uri": "https://localhost:8080/",
          "height": 424
        },
        "id": "Bq8jHRAM7K7r",
        "outputId": "fc4487ee-c480-4db1-907c-dbee8a7b382d"
      },
      "execution_count": 5,
      "outputs": [
        {
          "output_type": "execute_result",
          "data": {
            "text/plain": [
              "                                                Filepath             Label\n",
              "0      /content/drive/MyDrive/Alzheimer Magnetic Reso...  ModerateDemented\n",
              "1      /content/drive/MyDrive/Alzheimer Magnetic Reso...  ModerateDemented\n",
              "2      /content/drive/MyDrive/Alzheimer Magnetic Reso...  ModerateDemented\n",
              "3      /content/drive/MyDrive/Alzheimer Magnetic Reso...  ModerateDemented\n",
              "4      /content/drive/MyDrive/Alzheimer Magnetic Reso...  ModerateDemented\n",
              "...                                                  ...               ...\n",
              "33979  /content/drive/MyDrive/Alzheimer Magnetic Reso...      MildDemented\n",
              "33980  /content/drive/MyDrive/Alzheimer Magnetic Reso...      MildDemented\n",
              "33981  /content/drive/MyDrive/Alzheimer Magnetic Reso...      MildDemented\n",
              "33982  /content/drive/MyDrive/Alzheimer Magnetic Reso...      MildDemented\n",
              "33983  /content/drive/MyDrive/Alzheimer Magnetic Reso...      MildDemented\n",
              "\n",
              "[33984 rows x 2 columns]"
            ],
            "text/html": [
              "\n",
              "  <div id=\"df-3c3ae655-ff0c-48a4-9e1d-9ce09ef54af9\">\n",
              "    <div class=\"colab-df-container\">\n",
              "      <div>\n",
              "<style scoped>\n",
              "    .dataframe tbody tr th:only-of-type {\n",
              "        vertical-align: middle;\n",
              "    }\n",
              "\n",
              "    .dataframe tbody tr th {\n",
              "        vertical-align: top;\n",
              "    }\n",
              "\n",
              "    .dataframe thead th {\n",
              "        text-align: right;\n",
              "    }\n",
              "</style>\n",
              "<table border=\"1\" class=\"dataframe\">\n",
              "  <thead>\n",
              "    <tr style=\"text-align: right;\">\n",
              "      <th></th>\n",
              "      <th>Filepath</th>\n",
              "      <th>Label</th>\n",
              "    </tr>\n",
              "  </thead>\n",
              "  <tbody>\n",
              "    <tr>\n",
              "      <th>0</th>\n",
              "      <td>/content/drive/MyDrive/Alzheimer Magnetic Reso...</td>\n",
              "      <td>ModerateDemented</td>\n",
              "    </tr>\n",
              "    <tr>\n",
              "      <th>1</th>\n",
              "      <td>/content/drive/MyDrive/Alzheimer Magnetic Reso...</td>\n",
              "      <td>ModerateDemented</td>\n",
              "    </tr>\n",
              "    <tr>\n",
              "      <th>2</th>\n",
              "      <td>/content/drive/MyDrive/Alzheimer Magnetic Reso...</td>\n",
              "      <td>ModerateDemented</td>\n",
              "    </tr>\n",
              "    <tr>\n",
              "      <th>3</th>\n",
              "      <td>/content/drive/MyDrive/Alzheimer Magnetic Reso...</td>\n",
              "      <td>ModerateDemented</td>\n",
              "    </tr>\n",
              "    <tr>\n",
              "      <th>4</th>\n",
              "      <td>/content/drive/MyDrive/Alzheimer Magnetic Reso...</td>\n",
              "      <td>ModerateDemented</td>\n",
              "    </tr>\n",
              "    <tr>\n",
              "      <th>...</th>\n",
              "      <td>...</td>\n",
              "      <td>...</td>\n",
              "    </tr>\n",
              "    <tr>\n",
              "      <th>33979</th>\n",
              "      <td>/content/drive/MyDrive/Alzheimer Magnetic Reso...</td>\n",
              "      <td>MildDemented</td>\n",
              "    </tr>\n",
              "    <tr>\n",
              "      <th>33980</th>\n",
              "      <td>/content/drive/MyDrive/Alzheimer Magnetic Reso...</td>\n",
              "      <td>MildDemented</td>\n",
              "    </tr>\n",
              "    <tr>\n",
              "      <th>33981</th>\n",
              "      <td>/content/drive/MyDrive/Alzheimer Magnetic Reso...</td>\n",
              "      <td>MildDemented</td>\n",
              "    </tr>\n",
              "    <tr>\n",
              "      <th>33982</th>\n",
              "      <td>/content/drive/MyDrive/Alzheimer Magnetic Reso...</td>\n",
              "      <td>MildDemented</td>\n",
              "    </tr>\n",
              "    <tr>\n",
              "      <th>33983</th>\n",
              "      <td>/content/drive/MyDrive/Alzheimer Magnetic Reso...</td>\n",
              "      <td>MildDemented</td>\n",
              "    </tr>\n",
              "  </tbody>\n",
              "</table>\n",
              "<p>33984 rows × 2 columns</p>\n",
              "</div>\n",
              "      <button class=\"colab-df-convert\" onclick=\"convertToInteractive('df-3c3ae655-ff0c-48a4-9e1d-9ce09ef54af9')\"\n",
              "              title=\"Convert this dataframe to an interactive table.\"\n",
              "              style=\"display:none;\">\n",
              "        \n",
              "  <svg xmlns=\"http://www.w3.org/2000/svg\" height=\"24px\"viewBox=\"0 0 24 24\"\n",
              "       width=\"24px\">\n",
              "    <path d=\"M0 0h24v24H0V0z\" fill=\"none\"/>\n",
              "    <path d=\"M18.56 5.44l.94 2.06.94-2.06 2.06-.94-2.06-.94-.94-2.06-.94 2.06-2.06.94zm-11 1L8.5 8.5l.94-2.06 2.06-.94-2.06-.94L8.5 2.5l-.94 2.06-2.06.94zm10 10l.94 2.06.94-2.06 2.06-.94-2.06-.94-.94-2.06-.94 2.06-2.06.94z\"/><path d=\"M17.41 7.96l-1.37-1.37c-.4-.4-.92-.59-1.43-.59-.52 0-1.04.2-1.43.59L10.3 9.45l-7.72 7.72c-.78.78-.78 2.05 0 2.83L4 21.41c.39.39.9.59 1.41.59.51 0 1.02-.2 1.41-.59l7.78-7.78 2.81-2.81c.8-.78.8-2.07 0-2.86zM5.41 20L4 18.59l7.72-7.72 1.47 1.35L5.41 20z\"/>\n",
              "  </svg>\n",
              "      </button>\n",
              "      \n",
              "  <style>\n",
              "    .colab-df-container {\n",
              "      display:flex;\n",
              "      flex-wrap:wrap;\n",
              "      gap: 12px;\n",
              "    }\n",
              "\n",
              "    .colab-df-convert {\n",
              "      background-color: #E8F0FE;\n",
              "      border: none;\n",
              "      border-radius: 50%;\n",
              "      cursor: pointer;\n",
              "      display: none;\n",
              "      fill: #1967D2;\n",
              "      height: 32px;\n",
              "      padding: 0 0 0 0;\n",
              "      width: 32px;\n",
              "    }\n",
              "\n",
              "    .colab-df-convert:hover {\n",
              "      background-color: #E2EBFA;\n",
              "      box-shadow: 0px 1px 2px rgba(60, 64, 67, 0.3), 0px 1px 3px 1px rgba(60, 64, 67, 0.15);\n",
              "      fill: #174EA6;\n",
              "    }\n",
              "\n",
              "    [theme=dark] .colab-df-convert {\n",
              "      background-color: #3B4455;\n",
              "      fill: #D2E3FC;\n",
              "    }\n",
              "\n",
              "    [theme=dark] .colab-df-convert:hover {\n",
              "      background-color: #434B5C;\n",
              "      box-shadow: 0px 1px 3px 1px rgba(0, 0, 0, 0.15);\n",
              "      filter: drop-shadow(0px 1px 2px rgba(0, 0, 0, 0.3));\n",
              "      fill: #FFFFFF;\n",
              "    }\n",
              "  </style>\n",
              "\n",
              "      <script>\n",
              "        const buttonEl =\n",
              "          document.querySelector('#df-3c3ae655-ff0c-48a4-9e1d-9ce09ef54af9 button.colab-df-convert');\n",
              "        buttonEl.style.display =\n",
              "          google.colab.kernel.accessAllowed ? 'block' : 'none';\n",
              "\n",
              "        async function convertToInteractive(key) {\n",
              "          const element = document.querySelector('#df-3c3ae655-ff0c-48a4-9e1d-9ce09ef54af9');\n",
              "          const dataTable =\n",
              "            await google.colab.kernel.invokeFunction('convertToInteractive',\n",
              "                                                     [key], {});\n",
              "          if (!dataTable) return;\n",
              "\n",
              "          const docLinkHtml = 'Like what you see? Visit the ' +\n",
              "            '<a target=\"_blank\" href=https://colab.research.google.com/notebooks/data_table.ipynb>data table notebook</a>'\n",
              "            + ' to learn more about interactive tables.';\n",
              "          element.innerHTML = '';\n",
              "          dataTable['output_type'] = 'display_data';\n",
              "          await google.colab.output.renderOutput(dataTable, element);\n",
              "          const docLink = document.createElement('div');\n",
              "          docLink.innerHTML = docLinkHtml;\n",
              "          element.appendChild(docLink);\n",
              "        }\n",
              "      </script>\n",
              "    </div>\n",
              "  </div>\n",
              "  "
            ]
          },
          "metadata": {},
          "execution_count": 5
        }
      ]
    },
    {
      "cell_type": "code",
      "source": [
        "train_datagen = ImageDataGenerator(rescale=1./255,\n",
        "    validation_split=0.2)"
      ],
      "metadata": {
        "id": "rDXOD1K07O3Z"
      },
      "execution_count": 6,
      "outputs": []
    },
    {
      "cell_type": "code",
      "source": [
        "train_images = train_datagen.flow_from_directory(\n",
        "    data,\n",
        "    target_size=(224, 224),\n",
        "    batch_size=32,\n",
        "    class_mode='categorical',\n",
        "    subset='training')\n",
        "validation_images = train_datagen.flow_from_directory(\n",
        "    data ,\n",
        "    target_size=(224, 224),\n",
        "    batch_size=32,\n",
        "    class_mode='categorical',\n",
        "    subset='validation')"
      ],
      "metadata": {
        "colab": {
          "base_uri": "https://localhost:8080/"
        },
        "id": "d13mQp0l71xU",
        "outputId": "abf24c6a-5135-45b7-b7a2-dbef8079cf74"
      },
      "execution_count": 7,
      "outputs": [
        {
          "output_type": "stream",
          "name": "stdout",
          "text": [
            "Found 27188 images belonging to 4 classes.\n",
            "Found 6796 images belonging to 4 classes.\n"
          ]
        }
      ]
    },
    {
      "cell_type": "code",
      "source": [
        "inception_model = Sequential()\n",
        "\n",
        "pretrained_model= tf.keras.applications.InceptionV3(include_top=False,\n",
        "                   input_shape=(224,224,3),\n",
        "                   pooling='avg',classes=4,\n",
        "                   weights='imagenet')\n",
        "for layer in pretrained_model.layers:\n",
        "        layer.trainable=False\n",
        "\n",
        "inception_model.add(pretrained_model)"
      ],
      "metadata": {
        "colab": {
          "base_uri": "https://localhost:8080/"
        },
        "id": "7t7Sb2GO1Sbs",
        "outputId": "3a05cb75-f8b6-4b20-daaa-16bc6d4a4ca1"
      },
      "execution_count": 8,
      "outputs": [
        {
          "output_type": "stream",
          "name": "stdout",
          "text": [
            "Downloading data from https://storage.googleapis.com/tensorflow/keras-applications/inception_v3/inception_v3_weights_tf_dim_ordering_tf_kernels_notop.h5\n",
            "87910968/87910968 [==============================] - 0s 0us/step\n"
          ]
        }
      ]
    },
    {
      "cell_type": "code",
      "source": [
        "inception_model.add(Flatten())\n",
        "inception_model.add(Dense(512, activation='relu'))\n",
        "inception_model.add(Dropout(0.2))\n",
        "inception_model.add(Dense(4, activation='softmax'))"
      ],
      "metadata": {
        "id": "3ude1boG2T9k"
      },
      "execution_count": 9,
      "outputs": []
    },
    {
      "cell_type": "code",
      "source": [
        "inception_model.summary()"
      ],
      "metadata": {
        "colab": {
          "base_uri": "https://localhost:8080/"
        },
        "id": "jiEf_ZWG2XJt",
        "outputId": "e9ccf6c8-bebb-4fbf-d8ff-5fb5da78caf6"
      },
      "execution_count": 10,
      "outputs": [
        {
          "output_type": "stream",
          "name": "stdout",
          "text": [
            "Model: \"sequential\"\n",
            "_________________________________________________________________\n",
            " Layer (type)                Output Shape              Param #   \n",
            "=================================================================\n",
            " inception_v3 (Functional)   (None, 2048)              21802784  \n",
            "                                                                 \n",
            " flatten (Flatten)           (None, 2048)              0         \n",
            "                                                                 \n",
            " dense (Dense)               (None, 512)               1049088   \n",
            "                                                                 \n",
            " dropout (Dropout)           (None, 512)               0         \n",
            "                                                                 \n",
            " dense_1 (Dense)             (None, 4)                 2052      \n",
            "                                                                 \n",
            "=================================================================\n",
            "Total params: 22,853,924\n",
            "Trainable params: 1,051,140\n",
            "Non-trainable params: 21,802,784\n",
            "_________________________________________________________________\n"
          ]
        }
      ]
    },
    {
      "cell_type": "code",
      "source": [
        "inception_model.compile(loss = 'categorical_crossentropy', optimizer = tf.keras.optimizers.Adam(), metrics = ['accuracy'])\n",
        "history = inception_model.fit(train_images,\n",
        "    steps_per_epoch=len(train_images),\n",
        "    validation_data=validation_images,\n",
        "    validation_steps=len(validation_images),\n",
        "    epochs=10)"
      ],
      "metadata": {
        "colab": {
          "base_uri": "https://localhost:8080/"
        },
        "id": "DunFZo2D2ZW7",
        "outputId": "f4cf6d03-371e-4d07-ec38-98248fe99e70"
      },
      "execution_count": 11,
      "outputs": [
        {
          "output_type": "stream",
          "name": "stdout",
          "text": [
            "Epoch 1/10\n",
            "850/850 [==============================] - 125s 133ms/step - loss: 0.9668 - accuracy: 0.5611 - val_loss: 0.7932 - val_accuracy: 0.6366\n",
            "Epoch 2/10\n",
            "850/850 [==============================] - 107s 126ms/step - loss: 0.7986 - accuracy: 0.6291 - val_loss: 0.7260 - val_accuracy: 0.6652\n",
            "Epoch 3/10\n",
            "850/850 [==============================] - 105s 123ms/step - loss: 0.7388 - accuracy: 0.6578 - val_loss: 0.7331 - val_accuracy: 0.6761\n",
            "Epoch 4/10\n",
            "850/850 [==============================] - 106s 124ms/step - loss: 0.6995 - accuracy: 0.6833 - val_loss: 0.6768 - val_accuracy: 0.6879\n",
            "Epoch 5/10\n",
            "850/850 [==============================] - 105s 124ms/step - loss: 0.6678 - accuracy: 0.6955 - val_loss: 0.6457 - val_accuracy: 0.7054\n",
            "Epoch 6/10\n",
            "850/850 [==============================] - 105s 123ms/step - loss: 0.6422 - accuracy: 0.7106 - val_loss: 0.5970 - val_accuracy: 0.7309\n",
            "Epoch 7/10\n",
            "850/850 [==============================] - 104s 122ms/step - loss: 0.6146 - accuracy: 0.7208 - val_loss: 0.6015 - val_accuracy: 0.7257\n",
            "Epoch 8/10\n",
            "850/850 [==============================] - 105s 124ms/step - loss: 0.5985 - accuracy: 0.7304 - val_loss: 0.6000 - val_accuracy: 0.7245\n",
            "Epoch 9/10\n",
            "850/850 [==============================] - 106s 125ms/step - loss: 0.5691 - accuracy: 0.7505 - val_loss: 0.5623 - val_accuracy: 0.7479\n",
            "Epoch 10/10\n",
            "850/850 [==============================] - 106s 124ms/step - loss: 0.5617 - accuracy: 0.7490 - val_loss: 0.5647 - val_accuracy: 0.7453\n"
          ]
        }
      ]
    },
    {
      "cell_type": "code",
      "source": [
        "data = \"/content/drive/MyDrive/Alzheimer Magnetic Resonance Imaging (MRI)/OriginalDataset\""
      ],
      "metadata": {
        "id": "K45CMj0n3LK7"
      },
      "execution_count": 12,
      "outputs": []
    },
    {
      "cell_type": "code",
      "source": [
        "image_dir = Path(data)\n",
        "filepaths = list(image_dir.glob(r'**/*.JPG')) + list(image_dir.glob(r'**/*.jpg')) \n",
        "labels = list(map(lambda x: os.path.split(os.path.split(x)[0])[1], filepaths))\n",
        "filepaths = pd.Series(filepaths, name='Filepath').astype(str)\n",
        "labels = pd.Series(labels, name='Label')\n",
        "image_df = pd.concat([filepaths, labels], axis=1)"
      ],
      "metadata": {
        "id": "F4EzOT9Pbjh9"
      },
      "execution_count": 13,
      "outputs": []
    },
    {
      "cell_type": "code",
      "source": [
        "import PIL\n",
        "from pathlib import Path\n",
        "from PIL import UnidentifiedImageError\n",
        "path = Path(\"/content/drive/MyDrive/Alzheimer Magnetic Resonance Imaging (MRI)/OriginalDataset\").rglob(\"*.jpg\")\n",
        "for img_p in path:\n",
        "    try:\n",
        "        img = PIL.Image.open(img_p)\n",
        "    except PIL.UnidentifiedImageError:\n",
        "            print(img_p)"
      ],
      "metadata": {
        "id": "EvMSsNzxbjvb"
      },
      "execution_count": 14,
      "outputs": []
    },
    {
      "cell_type": "code",
      "source": [
        "image_df"
      ],
      "metadata": {
        "colab": {
          "base_uri": "https://localhost:8080/",
          "height": 424
        },
        "id": "fnfBLGoAbj8K",
        "outputId": "fb552957-fbb9-49d1-bf3a-a121fe75c6c7"
      },
      "execution_count": 15,
      "outputs": [
        {
          "output_type": "execute_result",
          "data": {
            "text/plain": [
              "                                               Filepath             Label\n",
              "0     /content/drive/MyDrive/Alzheimer Magnetic Reso...       NonDemented\n",
              "1     /content/drive/MyDrive/Alzheimer Magnetic Reso...       NonDemented\n",
              "2     /content/drive/MyDrive/Alzheimer Magnetic Reso...       NonDemented\n",
              "3     /content/drive/MyDrive/Alzheimer Magnetic Reso...       NonDemented\n",
              "4     /content/drive/MyDrive/Alzheimer Magnetic Reso...       NonDemented\n",
              "...                                                 ...               ...\n",
              "6395  /content/drive/MyDrive/Alzheimer Magnetic Reso...  VeryMildDemented\n",
              "6396  /content/drive/MyDrive/Alzheimer Magnetic Reso...  VeryMildDemented\n",
              "6397  /content/drive/MyDrive/Alzheimer Magnetic Reso...  VeryMildDemented\n",
              "6398  /content/drive/MyDrive/Alzheimer Magnetic Reso...  VeryMildDemented\n",
              "6399  /content/drive/MyDrive/Alzheimer Magnetic Reso...  VeryMildDemented\n",
              "\n",
              "[6400 rows x 2 columns]"
            ],
            "text/html": [
              "\n",
              "  <div id=\"df-f679d07c-57f1-4cf7-8994-6d6df474047c\">\n",
              "    <div class=\"colab-df-container\">\n",
              "      <div>\n",
              "<style scoped>\n",
              "    .dataframe tbody tr th:only-of-type {\n",
              "        vertical-align: middle;\n",
              "    }\n",
              "\n",
              "    .dataframe tbody tr th {\n",
              "        vertical-align: top;\n",
              "    }\n",
              "\n",
              "    .dataframe thead th {\n",
              "        text-align: right;\n",
              "    }\n",
              "</style>\n",
              "<table border=\"1\" class=\"dataframe\">\n",
              "  <thead>\n",
              "    <tr style=\"text-align: right;\">\n",
              "      <th></th>\n",
              "      <th>Filepath</th>\n",
              "      <th>Label</th>\n",
              "    </tr>\n",
              "  </thead>\n",
              "  <tbody>\n",
              "    <tr>\n",
              "      <th>0</th>\n",
              "      <td>/content/drive/MyDrive/Alzheimer Magnetic Reso...</td>\n",
              "      <td>NonDemented</td>\n",
              "    </tr>\n",
              "    <tr>\n",
              "      <th>1</th>\n",
              "      <td>/content/drive/MyDrive/Alzheimer Magnetic Reso...</td>\n",
              "      <td>NonDemented</td>\n",
              "    </tr>\n",
              "    <tr>\n",
              "      <th>2</th>\n",
              "      <td>/content/drive/MyDrive/Alzheimer Magnetic Reso...</td>\n",
              "      <td>NonDemented</td>\n",
              "    </tr>\n",
              "    <tr>\n",
              "      <th>3</th>\n",
              "      <td>/content/drive/MyDrive/Alzheimer Magnetic Reso...</td>\n",
              "      <td>NonDemented</td>\n",
              "    </tr>\n",
              "    <tr>\n",
              "      <th>4</th>\n",
              "      <td>/content/drive/MyDrive/Alzheimer Magnetic Reso...</td>\n",
              "      <td>NonDemented</td>\n",
              "    </tr>\n",
              "    <tr>\n",
              "      <th>...</th>\n",
              "      <td>...</td>\n",
              "      <td>...</td>\n",
              "    </tr>\n",
              "    <tr>\n",
              "      <th>6395</th>\n",
              "      <td>/content/drive/MyDrive/Alzheimer Magnetic Reso...</td>\n",
              "      <td>VeryMildDemented</td>\n",
              "    </tr>\n",
              "    <tr>\n",
              "      <th>6396</th>\n",
              "      <td>/content/drive/MyDrive/Alzheimer Magnetic Reso...</td>\n",
              "      <td>VeryMildDemented</td>\n",
              "    </tr>\n",
              "    <tr>\n",
              "      <th>6397</th>\n",
              "      <td>/content/drive/MyDrive/Alzheimer Magnetic Reso...</td>\n",
              "      <td>VeryMildDemented</td>\n",
              "    </tr>\n",
              "    <tr>\n",
              "      <th>6398</th>\n",
              "      <td>/content/drive/MyDrive/Alzheimer Magnetic Reso...</td>\n",
              "      <td>VeryMildDemented</td>\n",
              "    </tr>\n",
              "    <tr>\n",
              "      <th>6399</th>\n",
              "      <td>/content/drive/MyDrive/Alzheimer Magnetic Reso...</td>\n",
              "      <td>VeryMildDemented</td>\n",
              "    </tr>\n",
              "  </tbody>\n",
              "</table>\n",
              "<p>6400 rows × 2 columns</p>\n",
              "</div>\n",
              "      <button class=\"colab-df-convert\" onclick=\"convertToInteractive('df-f679d07c-57f1-4cf7-8994-6d6df474047c')\"\n",
              "              title=\"Convert this dataframe to an interactive table.\"\n",
              "              style=\"display:none;\">\n",
              "        \n",
              "  <svg xmlns=\"http://www.w3.org/2000/svg\" height=\"24px\"viewBox=\"0 0 24 24\"\n",
              "       width=\"24px\">\n",
              "    <path d=\"M0 0h24v24H0V0z\" fill=\"none\"/>\n",
              "    <path d=\"M18.56 5.44l.94 2.06.94-2.06 2.06-.94-2.06-.94-.94-2.06-.94 2.06-2.06.94zm-11 1L8.5 8.5l.94-2.06 2.06-.94-2.06-.94L8.5 2.5l-.94 2.06-2.06.94zm10 10l.94 2.06.94-2.06 2.06-.94-2.06-.94-.94-2.06-.94 2.06-2.06.94z\"/><path d=\"M17.41 7.96l-1.37-1.37c-.4-.4-.92-.59-1.43-.59-.52 0-1.04.2-1.43.59L10.3 9.45l-7.72 7.72c-.78.78-.78 2.05 0 2.83L4 21.41c.39.39.9.59 1.41.59.51 0 1.02-.2 1.41-.59l7.78-7.78 2.81-2.81c.8-.78.8-2.07 0-2.86zM5.41 20L4 18.59l7.72-7.72 1.47 1.35L5.41 20z\"/>\n",
              "  </svg>\n",
              "      </button>\n",
              "      \n",
              "  <style>\n",
              "    .colab-df-container {\n",
              "      display:flex;\n",
              "      flex-wrap:wrap;\n",
              "      gap: 12px;\n",
              "    }\n",
              "\n",
              "    .colab-df-convert {\n",
              "      background-color: #E8F0FE;\n",
              "      border: none;\n",
              "      border-radius: 50%;\n",
              "      cursor: pointer;\n",
              "      display: none;\n",
              "      fill: #1967D2;\n",
              "      height: 32px;\n",
              "      padding: 0 0 0 0;\n",
              "      width: 32px;\n",
              "    }\n",
              "\n",
              "    .colab-df-convert:hover {\n",
              "      background-color: #E2EBFA;\n",
              "      box-shadow: 0px 1px 2px rgba(60, 64, 67, 0.3), 0px 1px 3px 1px rgba(60, 64, 67, 0.15);\n",
              "      fill: #174EA6;\n",
              "    }\n",
              "\n",
              "    [theme=dark] .colab-df-convert {\n",
              "      background-color: #3B4455;\n",
              "      fill: #D2E3FC;\n",
              "    }\n",
              "\n",
              "    [theme=dark] .colab-df-convert:hover {\n",
              "      background-color: #434B5C;\n",
              "      box-shadow: 0px 1px 3px 1px rgba(0, 0, 0, 0.15);\n",
              "      filter: drop-shadow(0px 1px 2px rgba(0, 0, 0, 0.3));\n",
              "      fill: #FFFFFF;\n",
              "    }\n",
              "  </style>\n",
              "\n",
              "      <script>\n",
              "        const buttonEl =\n",
              "          document.querySelector('#df-f679d07c-57f1-4cf7-8994-6d6df474047c button.colab-df-convert');\n",
              "        buttonEl.style.display =\n",
              "          google.colab.kernel.accessAllowed ? 'block' : 'none';\n",
              "\n",
              "        async function convertToInteractive(key) {\n",
              "          const element = document.querySelector('#df-f679d07c-57f1-4cf7-8994-6d6df474047c');\n",
              "          const dataTable =\n",
              "            await google.colab.kernel.invokeFunction('convertToInteractive',\n",
              "                                                     [key], {});\n",
              "          if (!dataTable) return;\n",
              "\n",
              "          const docLinkHtml = 'Like what you see? Visit the ' +\n",
              "            '<a target=\"_blank\" href=https://colab.research.google.com/notebooks/data_table.ipynb>data table notebook</a>'\n",
              "            + ' to learn more about interactive tables.';\n",
              "          element.innerHTML = '';\n",
              "          dataTable['output_type'] = 'display_data';\n",
              "          await google.colab.output.renderOutput(dataTable, element);\n",
              "          const docLink = document.createElement('div');\n",
              "          docLink.innerHTML = docLinkHtml;\n",
              "          element.appendChild(docLink);\n",
              "        }\n",
              "      </script>\n",
              "    </div>\n",
              "  </div>\n",
              "  "
            ]
          },
          "metadata": {},
          "execution_count": 15
        }
      ]
    },
    {
      "cell_type": "code",
      "source": [
        "test_datagen = ImageDataGenerator(rescale=1./255)"
      ],
      "metadata": {
        "id": "WJxTYRU_bkGS"
      },
      "execution_count": 16,
      "outputs": []
    },
    {
      "cell_type": "code",
      "source": [
        "test_images = test_datagen.flow_from_directory(\n",
        "    data,\n",
        "    target_size=(224, 224),\n",
        "    batch_size=32,\n",
        "    class_mode='categorical')"
      ],
      "metadata": {
        "colab": {
          "base_uri": "https://localhost:8080/"
        },
        "id": "9vVNLioabkM6",
        "outputId": "003cee1b-202f-47a3-af28-885a0388a6e4"
      },
      "execution_count": 18,
      "outputs": [
        {
          "output_type": "stream",
          "name": "stdout",
          "text": [
            "Found 6400 images belonging to 4 classes.\n"
          ]
        }
      ]
    },
    {
      "cell_type": "code",
      "source": [
        "test_result = inception_model.evaluate(test_images, verbose=0)[1]\n",
        "print(f'Metric on test: {test_result}')"
      ],
      "metadata": {
        "colab": {
          "base_uri": "https://localhost:8080/"
        },
        "id": "rQJ4j05keAjl",
        "outputId": "dd1ca1ec-f586-46f5-dff2-905352401273"
      },
      "execution_count": 19,
      "outputs": [
        {
          "output_type": "stream",
          "name": "stdout",
          "text": [
            "Metric on test: 0.7043750286102295\n"
          ]
        }
      ]
    }
  ]
}